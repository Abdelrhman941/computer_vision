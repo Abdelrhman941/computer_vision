{
 "cells": [
  {
   "cell_type": "markdown",
   "metadata": {},
   "source": [
    "# **Camera Parameters & Calibration with OpenCV**\n",
    "\n",
    "## Overview\n",
    "This notebook covers essential camera calibration and parameter extraction:\n",
    "- **Camera Matrix**: Intrinsic parameters (focal length, optical center)\n",
    "- **Distortion Coefficients**: Correcting lens distortion effects\n",
    "- **Camera Calibration**: Using chessboard patterns for accuracy\n",
    "- **Image Undistortion**: Removing distortion from captured images\n",
    "- **Real-world Applications**: Measuring objects and distances\n",
    "\n",
    "Understanding camera parameters is crucial for computer vision applications requiring precise measurements."
   ]
  },
  {
   "cell_type": "code",
   "execution_count": 2,
   "metadata": {},
   "outputs": [
    {
     "name": "stdout",
     "output_type": "stream",
     "text": [
      "✅ OpenCV     Version: 4.10.0\n",
      "✅ NumPy      Version: 1.26.4\n",
      "✅ Matplotlib Version: 3.10.0\n",
      "✅ Camera parameters setup completed!\n",
      "✅ Camera detected and accessible\n"
     ]
    }
   ],
   "source": [
    "# Import required libraries\n",
    "import cv2\n",
    "import numpy as np\n",
    "import matplotlib.pyplot as plt\n",
    "import os\n",
    "\n",
    "# Verify libraries\n",
    "print(f\"✅ OpenCV     Version: {cv2.__version__}\")\n",
    "print(f\"✅ NumPy      Version: {np.__version__}\")\n",
    "print(f\"✅ Matplotlib Version: {plt.matplotlib.__version__}\")\n",
    "\n",
    "# Create output directory\n",
    "os.makedirs('../assets/outputs/05_camera_parameters', exist_ok=True)\n",
    "print(\"✅ Camera parameters setup completed!\")\n",
    "\n",
    "# Check for camera availability\n",
    "cap = cv2.VideoCapture(0)\n",
    "if cap.isOpened():\n",
    "    print(\"✅ Camera detected and accessible\")\n",
    "    cap.release()\n",
    "else:\n",
    "    print(\"⚠️ No camera detected - will use sample images for demonstration\")"
   ]
  },
  {
   "cell_type": "markdown",
   "metadata": {},
   "source": [
    "## **1. Camera Matrix Fundamentals**\n",
    "\n",
    "### Intrinsic Parameters:\n",
    "The camera matrix contains internal camera parameters:\n",
    "\n",
    "```\n",
    "K = [[fx,  0, cx],\n",
    "     [ 0, fy, cy], \n",
    "     [ 0,  0,  1]]\n",
    "```\n",
    "\n",
    "Where:\n",
    "- **fx, fy**: Focal lengths in pixel units\n",
    "- **cx, cy**: Principal point (optical center)\n",
    "- **Distortion**: Radial and tangential distortion coefficients\n",
    "\n",
    "### Applications:\n",
    "- **3D Reconstruction**: Converting 2D images to 3D coordinates\n",
    "- **Augmented Reality**: Overlaying digital objects accurately\n",
    "- **Robotics**: Navigation and object manipulation\n",
    "- **Metrology**: Precise measurements from images"
   ]
  },
  {
   "cell_type": "code",
   "execution_count": 4,
   "metadata": {},
   "outputs": [
    {
     "name": "stdout",
     "output_type": "stream",
     "text": [
      "📷 Camera Calibration Demo\n",
      "✅ Chessboard setup: 6x9 corners\n",
      "✅ Square size: 25mm\n",
      "✅ Object points shape: (54, 3)\n",
      "\n",
      "📊 Example Camera Matrix:\n",
      "   Focal Length (fx, fy)    : (800.0, 800.0)\n",
      "   Principal Point (cx, cy) : (320.0, 240.0)\n",
      "\n",
      "📊 Distortion Coefficients:\n",
      "   Radial (k1, k2, k3)  : [ 0.1 -0.2  0.1]\n",
      "   Tangential (p1, p2)  : [0.001 0.002]\n"
     ]
    }
   ],
   "source": [
    "# Sample camera calibration demonstration\n",
    "print(\"📷 Camera Calibration Demo\")\n",
    "\n",
    "# Prepare object points for a chessboard pattern (6x9 corners)\n",
    "chessboard_size = (6, 9)\n",
    "square_size = 25  # mm\n",
    "\n",
    "# Prepare object points (0,0,0), (1,0,0), (2,0,0) ....,(6,5,0)\n",
    "objp = np.zeros((chessboard_size[0] * chessboard_size[1], 3), np.float32)\n",
    "objp[:, :2] = np.mgrid[0:chessboard_size[0], 0:chessboard_size[1]].T.reshape(-1, 2)\n",
    "objp *= square_size  # Scale to real-world coordinates\n",
    "\n",
    "print(f\"✅ Chessboard setup: {chessboard_size[0]}x{chessboard_size[1]} corners\")\n",
    "print(f\"✅ Square size: {square_size}mm\")\n",
    "print(f\"✅ Object points shape: {objp.shape}\")\n",
    "\n",
    "# Example camera matrix and distortion coefficients (typical values)\n",
    "# These would normally be computed from multiple calibration images\n",
    "camera_matrix_example = np.array([  [800, 0, 320],\n",
    "                                    [0, 800, 240],\n",
    "                                    [0, 0, 1]], dtype=np.float32)\n",
    "\n",
    "distortion_coeffs_example = np.array([0.1, -0.2, 0.001, 0.002, 0.1], dtype=np.float32)\n",
    "\n",
    "print(f\"\\n📊 Example Camera Matrix:\")\n",
    "print(f\"   Focal Length (fx, fy)    : ({camera_matrix_example[0,0]:.1f}, {camera_matrix_example[1,1]:.1f})\")\n",
    "print(f\"   Principal Point (cx, cy) : ({camera_matrix_example[0,2]:.1f}, {camera_matrix_example[1,2]:.1f})\")\n",
    "print(f\"\\n📊 Distortion Coefficients:\")\n",
    "print(f\"   Radial (k1, k2, k3)  : {distortion_coeffs_example[[0,1,4]]}\")\n",
    "print(f\"   Tangential (p1, p2)  : {distortion_coeffs_example[[2,3]]}\")"
   ]
  }
 ],
 "metadata": {
  "kernelspec": {
   "display_name": "base",
   "language": "python",
   "name": "python3"
  },
  "language_info": {
   "codemirror_mode": {
    "name": "ipython",
    "version": 3
   },
   "file_extension": ".py",
   "mimetype": "text/x-python",
   "name": "python",
   "nbconvert_exporter": "python",
   "pygments_lexer": "ipython3",
   "version": "3.12.3"
  }
 },
 "nbformat": 4,
 "nbformat_minor": 2
}
