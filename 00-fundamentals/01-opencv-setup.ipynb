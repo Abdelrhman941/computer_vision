{
 "cells": [
  {
   "cell_type": "markdown",
   "metadata": {},
   "source": [
    "# **OpenCV Setup & Basic Operations**\n",
    "\n",
    "## Overview\n",
    "This notebook covers essential OpenCV setup verification and fundamental image operations including:\n",
    "- Installation verification\n",
    "- Color space conversions (BGR ↔ RGB, Grayscale, HSV)\n",
    "- Image I/O operations\n",
    "- Display functionality\n",
    "\n",
    "OpenCV uses **BGR** color format by default, while most other libraries use **RGB**."
   ]
  },
  {
   "cell_type": "code",
   "execution_count": 1,
   "metadata": {},
   "outputs": [
    {
     "name": "stdout",
     "output_type": "stream",
     "text": [
      "OpenCV Version: 4.10.0\n",
      "✅ OpenCV imported successfully!\n"
     ]
    }
   ],
   "source": [
    "# Import required libraries\n",
    "import cv2 \n",
    "from PIL import Image \n",
    "import numpy as np\n",
    "\n",
    "# Verify OpenCV installation\n",
    "print(f\"OpenCV Version: {cv2.__version__}\")\n",
    "print(\"✅ OpenCV imported successfully!\")"
   ]
  },
  {
   "cell_type": "markdown",
   "metadata": {},
   "source": [
    "## **1. Color Space Conversions**\n",
    "\n",
    "### BGR ↔ RGB Conversion\n",
    "- **BGR**: Blue-Green-Red (OpenCV default)\n",
    "- **RGB**: Red-Green-Blue (Standard format)\n",
    "\n",
    "| Conversion | Usage |\n",
    "|------------|-------|\n",
    "| `COLOR_BGR2RGB` | Convert OpenCV image to standard RGB |\n",
    "| `COLOR_RGB2BGR` | Convert RGB image to OpenCV format |"
   ]
  },
  {
   "cell_type": "code",
   "execution_count": 2,
   "metadata": {},
   "outputs": [
    {
     "name": "stdout",
     "output_type": "stream",
     "text": [
      "✅ Image loaded: (486, 739, 3)\n",
      "✅ BGR → RGB conversion completed\n"
     ]
    }
   ],
   "source": [
    "# Load image (returns in BGR format)\n",
    "image_path = '../assets/input-images/image1.png'\n",
    "image_bgr  = cv2.imread(image_path)\n",
    "\n",
    "if image_bgr is not None:\n",
    "    # Convert BGR to RGB\n",
    "    image_rgb = cv2.cvtColor(image_bgr, cv2.COLOR_BGR2RGB)\n",
    "    print(f\"✅ Image loaded: {image_bgr.shape}\")\n",
    "    print(f\"✅ BGR → RGB conversion completed\")\n",
    "else:\n",
    "    print(\"❌ Could not load image. Check the file path.\")"
   ]
  },
  {
   "cell_type": "code",
   "execution_count": 3,
   "metadata": {},
   "outputs": [
    {
     "name": "stdout",
     "output_type": "stream",
     "text": [
      "Press any key to close windows...\n",
      "✅ Display windows closed\n",
      "✅ Display windows closed\n"
     ]
    }
   ],
   "source": [
    "# Display images side by side\n",
    "if image_bgr is not None:\n",
    "    cv2.imshow('BGR Format (OpenCV Default)', image_bgr)\n",
    "    cv2.imshow('RGB Format (Standard)', image_rgb)\n",
    "    \n",
    "    print(\"Press any key to close windows...\")\n",
    "    cv2.waitKey(0)\n",
    "    cv2.destroyAllWindows()\n",
    "    print(\"✅ Display windows closed\")"
   ]
  },
  {
   "cell_type": "markdown",
   "metadata": {},
   "source": [
    "## **2. Image I/O Operations**\n",
    "\n",
    "### OpenCV vs PIL Comparison\n",
    "Different libraries handle image formats differently:"
   ]
  },
  {
   "cell_type": "code",
   "execution_count": 4,
   "metadata": {},
   "outputs": [
    {
     "name": "stdout",
     "output_type": "stream",
     "text": [
      "=== Method 1: Direct OpenCV Save (BGR format) ===\n",
      "✅ Saved with cv2.imwrite() - maintains BGR\n",
      "\n",
      "=== Method 2: PIL Save without conversion (Incorrect colors) ===\n",
      "⚠️ Saved BGR as RGB - colors will be wrong!\n",
      "\n",
      "=== Method 3: Correct PIL Save (BGR→RGB conversion) ===\n",
      "✅ Saved with proper BGR→RGB conversion\n",
      "\n",
      "Image shape: (486, 739, 3)\n",
      "✅ Saved with proper BGR→RGB conversion\n",
      "\n",
      "Image shape: (486, 739, 3)\n"
     ]
    }
   ],
   "source": [
    "image_path = '../assets/input-images/image1.png'\n",
    "img_cv = cv2.imread(image_path)\n",
    "\n",
    "if img_cv is not None:\n",
    "    print(\"=== Method 1: Direct OpenCV Save (BGR format) ===\")\n",
    "    cv2.imwrite('../assets/outputs/opencv_direct.png', img_cv)\n",
    "    print(\"✅ Saved with cv2.imwrite() - maintains BGR\")\n",
    "    \n",
    "    print(\"\\n=== Method 2: PIL Save without conversion (Incorrect colors) ===\")\n",
    "    pil_img_bgr = Image.fromarray(img_cv) \n",
    "    pil_img_bgr.save('../assets/outputs/pil_incorrect.png')\n",
    "    print(\"⚠️ Saved BGR as RGB - colors will be wrong!\")\n",
    "    \n",
    "    print(\"\\n=== Method 3: Correct PIL Save (BGR→RGB conversion) ===\")\n",
    "    img_rgb = cv2.cvtColor(img_cv, cv2.COLOR_BGR2RGB)\n",
    "    pil_img_rgb = Image.fromarray(img_rgb) \n",
    "    pil_img_rgb.save('../assets/outputs/pil_correct.png')\n",
    "    print(\"✅ Saved with proper BGR→RGB conversion\")\n",
    "    \n",
    "    print(f\"\\nImage shape: {img_cv.shape}\")\n",
    "else:\n",
    "    print(\"❌ Could not load image\")"
   ]
  },
  {
   "cell_type": "markdown",
   "metadata": {},
   "source": [
    "## **3. Grayscale Conversion**\n",
    "\n",
    "Convert color images to grayscale for:\n",
    "- **Reduced computational complexity**\n",
    "- **Preprocessing for computer vision algorithms**\n",
    "- **Edge detection and feature extraction**"
   ]
  },
  {
   "cell_type": "code",
   "execution_count": 5,
   "metadata": {},
   "outputs": [
    {
     "name": "stdout",
     "output_type": "stream",
     "text": [
      "Original  shape: (486, 739, 3) (H, W, C)\n",
      "Grayscale shape: (486, 739) (H, W)\n",
      "✅ Grayscale conversion completed and saved\n",
      "✅ Grayscale conversion completed and saved\n"
     ]
    }
   ],
   "source": [
    "# Convert to grayscale\n",
    "if img_cv is not None:\n",
    "    img_gray = cv2.cvtColor(img_cv, cv2.COLOR_BGR2GRAY)\n",
    "    \n",
    "    print(f\"Original  shape: {img_cv.shape} (H, W, C)\")\n",
    "    print(f\"Grayscale shape: {img_gray.shape} (H, W)\")\n",
    "    \n",
    "    # Display grayscale image\n",
    "    cv2.imshow('Grayscale Image', img_gray)\n",
    "    cv2.waitKey(0)\n",
    "    cv2.destroyAllWindows()\n",
    "    \n",
    "    # Save grayscale image\n",
    "    cv2.imwrite('../assets/outputs/grayscale.png', img_gray)\n",
    "    print(\"✅ Grayscale conversion completed and saved\")\n",
    "else:\n",
    "    print(\"❌ No image loaded for grayscale conversion\")"
   ]
  },
  {
   "cell_type": "markdown",
   "metadata": {},
   "source": [
    "## **4. HSV Color Space**\n",
    "\n",
    "**HSV (Hue, Saturation, Value)** is useful for:\n",
    "- **Color-based object detection**\n",
    "- **Image segmentation**\n",
    "- **Color filtering applications**\n",
    "\n",
    "| Component | Range | Description |\n",
    "|-----------|-------|-------------|\n",
    "| Hue | 0-179 | Color type |\n",
    "| Saturation | 0-255 | Color intensity |\n",
    "| Value | 0-255 | Brightness |"
   ]
  },
  {
   "cell_type": "code",
   "execution_count": 10,
   "metadata": {},
   "outputs": [
    {
     "name": "stdout",
     "output_type": "stream",
     "text": [
      "Original BGR shape: (776, 1152, 3)\n",
      "HSV shape         : (776, 1152, 3)\n",
      "HSV channels: H(0-179), S(0-255), V(0-255)\n",
      "✅ HSV conversion completed and saved\n"
     ]
    }
   ],
   "source": [
    "# Convert BGR to HSV\n",
    "image_path = '../assets/input-images/image5.jpg'\n",
    "img_bgr    = cv2.imread(image_path)\n",
    "\n",
    "if img_bgr is not None:\n",
    "    # Convert to HSV color space\n",
    "    img_hsv = cv2.cvtColor(img_bgr, cv2.COLOR_BGR2HSV)\n",
    "    \n",
    "    print(f\"Original BGR shape: {img_bgr.shape}\")\n",
    "    print(f\"HSV shape         : {img_hsv.shape}\")\n",
    "    print(\"HSV channels: H(0-179), S(0-255), V(0-255)\")\n",
    "    \n",
    "    # Display HSV image\n",
    "    cv2.imshow('HSV Color Space', img_hsv)\n",
    "    cv2.waitKey(0)\n",
    "    cv2.destroyAllWindows()\n",
    "    \n",
    "    # Save HSV image\n",
    "    cv2.imwrite('../assets/outputs/hsv_image.png', img_hsv)\n",
    "    print(\"✅ HSV conversion completed and saved\")\n",
    "else:\n",
    "    print(\"❌ Could not load image for HSV conversion\")"
   ]
  },
  {
   "cell_type": "markdown",
   "metadata": {},
   "source": [
    "## **5. Summary**\n",
    "\n",
    "### Key Takeaways:\n",
    "1. **OpenCV uses BGR format** by default (not RGB)\n",
    "2. **Always convert BGR→RGB** when using with other libraries\n",
    "3. **Color space conversions** are essential for CV tasks:\n",
    "   - **Grayscale**: Simplified processing\n",
    "   - **HSV**: Color-based operations\n",
    "4. **Proper error handling** prevents runtime issues\n",
    "\n",
    "### Next Steps:\n",
    "- Explore image filtering techniques\n",
    "- Learn about geometric transformations\n",
    "- Practice with different image formats\n",
    "\n",
    "---\n",
    "**✅ OpenCV Setup Complete!**"
   ]
  }
 ],
 "metadata": {
  "kernelspec": {
   "display_name": "base",
   "language": "python",
   "name": "python3"
  },
  "language_info": {
   "codemirror_mode": {
    "name": "ipython",
    "version": 3
   },
   "file_extension": ".py",
   "mimetype": "text/x-python",
   "name": "python",
   "nbconvert_exporter": "python",
   "pygments_lexer": "ipython3",
   "version": "3.12.3"
  }
 },
 "nbformat": 4,
 "nbformat_minor": 2
}
