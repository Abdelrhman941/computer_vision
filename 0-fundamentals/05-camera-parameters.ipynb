{
 "cells": [
  {
   "cell_type": "markdown",
   "metadata": {},
   "source": [
    "# **Camera Parameters & Calibration with OpenCV**\n",
    "\n",
    "## Overview\n",
    "This notebook covers essential camera calibration and parameter extraction:\n",
    "- **Camera Properties**: Resolution, FPS, and device capabilities\n",
    "- **Camera Matrix**: Intrinsic parameters (focal length, optical center)\n",
    "- **Distortion Coefficients**: Correcting lens distortion effects\n",
    "- **Camera Calibration**: Using chessboard patterns for accuracy\n",
    "- **Real-world Applications**: Measuring objects and distances\n",
    "\n",
    "Understanding camera parameters is crucial for computer vision applications requiring precise measurements.\n"
   ]
  },
  {
   "cell_type": "code",
   "execution_count": 3,
   "metadata": {},
   "outputs": [
    {
     "name": "stdout",
     "output_type": "stream",
     "text": [
      "✅ OpenCV     Version: 4.10.0\n",
      "✅ NumPy      Version: 1.26.4\n",
      "✅ Matplotlib Version: 3.10.0\n",
      "✅ Camera parameters setup completed!\n",
      "✅ Camera detected and accessible\n"
     ]
    }
   ],
   "source": [
    "# Import required libraries\n",
    "import cv2\n",
    "import numpy as np\n",
    "import matplotlib.pyplot as plt\n",
    "import datetime as dt\n",
    "import os\n",
    "\n",
    "# Verify libraries\n",
    "print(f\"✅ OpenCV     Version: {cv2.__version__}\")\n",
    "print(f\"✅ NumPy      Version: {np.__version__}\")\n",
    "print(f\"✅ Matplotlib Version: {plt.matplotlib.__version__}\")\n",
    "\n",
    "# Create output directory\n",
    "os.makedirs('../assets/outputs/05_camera_parameters', exist_ok=True)\n",
    "print(\"✅ Camera parameters setup completed!\")\n",
    "\n",
    "# Configure matplotlib for better display\n",
    "plt.rcParams['figure.figsize'] = (12, 8)\n",
    "plt.rcParams['axes.titlesize'] = 14\n",
    "plt.rcParams['axes.labelsize'] = 12\n",
    "\n",
    "# Check for camera availability\n",
    "cap = cv2.VideoCapture(0)\n",
    "if cap.isOpened():\n",
    "    print(\"✅ Camera detected and accessible\")\n",
    "    cap.release()\n",
    "else:\n",
    "    print(\"⚠️ No camera detected - will use sample images for demonstration\")"
   ]
  },
  {
   "cell_type": "markdown",
   "metadata": {},
   "source": [
    "## **1. Camera Properties & Configuration**\n",
    "\n",
    "### Camera Property Access\n",
    "OpenCV provides access to various camera properties through `CAP_PROP` constants:\n",
    "\n",
    "| Property | Constant | Description |\n",
    "|----------|----------|-------------|\n",
    "| Frame Width | `cv2.CAP_PROP_FRAME_WIDTH` | Image width in pixels |\n",
    "| Frame Height | `cv2.CAP_PROP_FRAME_HEIGHT` | Image height in pixels |\n",
    "| FPS | `cv2.CAP_PROP_FPS` | Frames per second |\n",
    "| Brightness | `cv2.CAP_PROP_BRIGHTNESS` | Camera brightness |\n",
    "| Contrast | `cv2.CAP_PROP_CONTRAST` | Camera contrast |\n",
    "| Saturation | `cv2.CAP_PROP_SATURATION` | Color saturation |\n",
    "\n",
    "### Resolution Configuration\n",
    "Common camera resolutions and their applications:"
   ]
  },
  {
   "cell_type": "code",
   "execution_count": 4,
   "metadata": {},
   "outputs": [
    {
     "name": "stdout",
     "output_type": "stream",
     "text": [
      "📷 Camera Property Configuration\n",
      "=== Current Camera Properties ===\n",
      "📐 Resolution   : 640 × 480 pixels\n",
      "🎬 Frame Rate   : 30.0 FPS\n",
      "☀️ Brightness   : 0.0\n",
      "🌈 Contrast     : 32.0\n",
      "\n",
      "=== Setting HD Resolution (1280×720) ===\n",
      "📐 New Resolution: 1280 × 720 pixels\n",
      "\n",
      "💡 Press 'q' to quit camera feed...\n",
      "✅ Camera configuration completed\n"
     ]
    }
   ],
   "source": [
    "# Camera resolution configuration and property access\n",
    "print(\"📷 Camera Property Configuration\")\n",
    "cap = cv2.VideoCapture(0)\n",
    "\n",
    "if cap.isOpened():\n",
    "    # Get current camera properties\n",
    "    print(\"=== Current Camera Properties ===\")\n",
    "    width = cap.get(cv2.CAP_PROP_FRAME_WIDTH)\n",
    "    height = cap.get(cv2.CAP_PROP_FRAME_HEIGHT)\n",
    "    fps = cap.get(cv2.CAP_PROP_FPS)\n",
    "    brightness = cap.get(cv2.CAP_PROP_BRIGHTNESS)\n",
    "    contrast = cap.get(cv2.CAP_PROP_CONTRAST)\n",
    "    \n",
    "    print(f\"📐 Resolution   : {width:.0f} × {height:.0f} pixels\")\n",
    "    print(f\"🎬 Frame Rate   : {fps:.1f} FPS\")\n",
    "    print(f\"☀️ Brightness   : {brightness:.1f}\")\n",
    "    print(f\"🌈 Contrast     : {contrast:.1f}\")\n",
    "    \n",
    "    # Set new resolution (HD 720p)\n",
    "    print(f\"\\n=== Setting HD Resolution (1280×720) ===\")\n",
    "    cap.set(cv2.CAP_PROP_FRAME_WIDTH, 1280)\n",
    "    cap.set(cv2.CAP_PROP_FRAME_HEIGHT, 720)\n",
    "    \n",
    "    # Verify new settings\n",
    "    new_width = cap.get(cv2.CAP_PROP_FRAME_WIDTH)\n",
    "    new_height = cap.get(cv2.CAP_PROP_FRAME_HEIGHT)\n",
    "    \n",
    "    print(f\"📐 New Resolution: {new_width:.0f} × {new_height:.0f} pixels\")\n",
    "    print(\"\\n💡 Press 'q' to quit camera feed...\")\n",
    "    \n",
    "    while True:\n",
    "        ret, frame = cap.read()\n",
    "        if ret:\n",
    "            cv2.imshow('Camera Feed - HD Resolution', frame)\n",
    "            \n",
    "            # Break the loop if 'q' is pressed\n",
    "            if cv2.waitKey(1) & 0xFF == ord('q'):\n",
    "                break\n",
    "        else:\n",
    "            print(\"❌ Failed to capture frame\")\n",
    "            break\n",
    "    \n",
    "    cap.release()\n",
    "    cv2.destroyAllWindows()\n",
    "else:\n",
    "    print(\"❌ Camera not accessible - using sample data for demonstration\")\n",
    "    \n",
    "    # Create sample camera properties for demonstration\n",
    "    print(\"=== Sample Camera Properties (Simulation) ===\")\n",
    "    print(\"📐 Resolution   : 640 × 480 pixels (VGA)\")\n",
    "    print(\"🎬 Frame Rate   : 30.0 FPS\")\n",
    "    print(\"☀️ Brightness   : 128.0\")\n",
    "    print(\"🌈 Contrast     : 32.0\")\n",
    "\n",
    "print(\"✅ Camera configuration completed\")"
   ]
  },
  {
   "cell_type": "markdown",
   "metadata": {},
   "source": [
    "### **to Show Date and Time on Videos** "
   ]
  },
  {
   "cell_type": "code",
   "execution_count": 8,
   "metadata": {},
   "outputs": [],
   "source": [
    "cap    = cv2.VideoCapture(0)\n",
    "cap.set(3, 1280)\n",
    "cap.set(4, 720)\n",
    "\n",
    "while(cap.isOpened()):\n",
    "    ret, frame = cap.read()\n",
    "    if ret == True:\n",
    "        font = cv2.FONT_HERSHEY_SIMPLEX\n",
    "        text = f\"Width: {int(cap.get(3))}, Height: {int(cap.get(4))}\"\n",
    "        datetime_str = dt.datetime.now().strftime('%Y-%m-%d %H:%M:%S')\n",
    "        frame = cv2.putText(frame, text, (20, 30), font, 1, (255, 255, 255), 2, cv2.LINE_AA)\n",
    "        frame = cv2.putText(frame, datetime_str, (20, 80), font, 1, (255, 255, 255), 2, cv2.LINE_AA)\n",
    "        cv2.imshow('Camera Frame', frame)\n",
    "        \n",
    "        if cv2.waitKey(1) & 0xFF == ord('q'):\n",
    "            break\n",
    "    else:\n",
    "        print(\"⚠️ Failed to capture image from camera\")\n",
    "        break\n",
    "\n",
    "cap.release()\n",
    "cv2.destroyAllWindows()"
   ]
  }
 ],
 "metadata": {
  "kernelspec": {
   "display_name": "base",
   "language": "python",
   "name": "python3"
  },
  "language_info": {
   "codemirror_mode": {
    "name": "ipython",
    "version": 3
   },
   "file_extension": ".py",
   "mimetype": "text/x-python",
   "name": "python",
   "nbconvert_exporter": "python",
   "pygments_lexer": "ipython3",
   "version": "3.12.3"
  }
 },
 "nbformat": 4,
 "nbformat_minor": 2
}
